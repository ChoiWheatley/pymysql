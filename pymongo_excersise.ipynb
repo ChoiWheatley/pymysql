{
 "cells": [
  {
   "cell_type": "markdown",
   "metadata": {},
   "source": [
    "## MongoDB 문제 풀어보기\n",
    "\n",
    "[notion link](https://www.notion.so/MongoDB-845d3b14f8c84ace9044f4fd783ace7c?pvs=4)\n",
    "\n",
    "- **복습할 개념 체크 리스트**\n",
    "  - Python 함수\n",
    "  - `find`\n",
    "  - `sort`\n",
    "  - `update_many`\n",
    "  - `limit`\n",
    "  - `aggregate`\n"
   ]
  },
  {
   "cell_type": "markdown",
   "metadata": {},
   "source": [
    "## import, db 객체 초기화, faker 객체 초기화\n"
   ]
  },
  {
   "cell_type": "code",
   "execution_count": 87,
   "metadata": {},
   "outputs": [],
   "source": [
    "from pymongo import MongoClient\n",
    "from faker import Faker\n",
    "from datetime import datetime\n",
    "import random\n",
    "\n",
    "ACTIONS = [\"click\", \"view\", \"purchase\"]\n",
    "fake = Faker()\n",
    "\n",
    "client = MongoClient(\"mongodb://localhost:27017/\")\n",
    "db = client.test_database"
   ]
  },
  {
   "cell_type": "markdown",
   "metadata": {},
   "source": [
    "## 함수 정의부\n"
   ]
  },
  {
   "cell_type": "code",
   "execution_count": 88,
   "metadata": {},
   "outputs": [],
   "source": [
    "def generate_sample_book():\n",
    "    return {\n",
    "        \"title\": fake.sentence(nb_words=3),\n",
    "        \"author\": fake.word(\n",
    "            ext_word_list=[\"봉준호\", \"James Cameron\", \"Christopher Nolan\", \"Robert Arnold\"]\n",
    "        ),\n",
    "        \"year\": random.randint(1900, 2024),\n",
    "        \"genre\": fake.word(ext_word_list=[\"comic\", \"fantasy\", \"thriller\", \"horror\"]),\n",
    "    }\n",
    "\n",
    "\n",
    "def generate_sample_movie():\n",
    "    return {\n",
    "        \"title\": fake.sentence(nb_words=3),\n",
    "        \"director\": fake.word(\n",
    "            ext_word_list=[\"봉준호\", \"James Cameron\", \"Christopher Nolan\", \"Robert Arnold\"]\n",
    "        ),\n",
    "        \"year\": random.randint(1900, 2024),\n",
    "        \"rating\": random.uniform(1, 10),\n",
    "        \"genre\": fake.word(ext_word_list=[\"comic\", \"fantasy\", \"thriller\", \"horror\"]),\n",
    "    }\n",
    "\n",
    "\n",
    "def generate_user_action():\n",
    "    return {\n",
    "        \"user_id\": random.randint(1, 10),\n",
    "        \"action\": random.choice(ACTIONS),\n",
    "        \"timestamp\": fake.date_time_between(),\n",
    "    }\n",
    "\n",
    "\n",
    "def remove_all_data(db):\n",
    "    for collection_name in db.list_collection_names():\n",
    "        db[collection_name].drop()\n",
    "\n",
    "\n",
    "def insert_data(db):\n",
    "    # 책 데이터 삽입\n",
    "    db[\"books\"].insert_many([generate_sample_book() for _ in range(50)])\n",
    "\n",
    "    # 영화 데이터 삽입\n",
    "    db[\"movies\"].insert_many([generate_sample_movie() for _ in range(50)])\n",
    "\n",
    "    # 사용자 행동 데이터 삽입\n",
    "    db[\"user_actions\"].insert_many([generate_user_action() for _ in range(50)])\n",
    "\n",
    "    print(\"Data inserted successfully\")\n",
    "\n",
    "\n",
    "def find_books_by_genre(db, genre):\n",
    "    books_collection = db.books\n",
    "    query = {\"genre\": genre}\n",
    "    projection = {\n",
    "        \"_id\": 0,\n",
    "        \"title\": 1,\n",
    "        \"author\": 1,\n",
    "        \"genre\": 1,\n",
    "    }  # 1 은 포함할 필드, 0 은 제외할 필드\n",
    "\n",
    "    books = books_collection.find(query, projection)\n",
    "    for book in books:\n",
    "        print(book)\n",
    "\n",
    "\n",
    "def find_recent_actions_by_user(db, user_id, limit=5):\n",
    "    \"\"\"\n",
    "    사용자의 최근 행동 5개를 시간 순으로 정렬하여 보여주세요\n",
    "    \"\"\"\n",
    "    _match = {\"$match\": {\"user_id\": user_id}}\n",
    "    _limit = {\"$limit\": limit}\n",
    "    # TODO - sorting\n",
    "    pipeline = [_match, _limit]\n",
    "    result = db[\"user_actions\"].aggregate(pipeline)\n",
    "    # TODO - find().sort().limit() 체이닝이 가능함!\n",
    "\n",
    "    for action in result:\n",
    "        print(action)\n",
    "\n",
    "\n",
    "def update_user_actions_before_date(db, user_id, date, old_action, new_action):\n",
    "    \"\"\"\n",
    "    UPDATE\n",
    "\n",
    "    user_id의 date 이전의 old_action을 new_action으로 변경하는 함수.\n",
    "    \"\"\"\n",
    "    query = {\n",
    "        \"user_id\": user_id,\n",
    "        \"timestamp\": {\"$lt\": date},\n",
    "        \"action\": old_action,\n",
    "    }  # user_id의 timestamp가 date 이전\n",
    "    _set = {\"$set\": {\"action\": new_action}}\n",
    "\n",
    "    db[\"user_actions\"].update_many(query, _set)"
   ]
  },
  {
   "cell_type": "markdown",
   "metadata": {},
   "source": [
    "## 데이터 초기화 및 삽입코드\n",
    "\n",
    "데이터 초기화를 하는 이유는 매번 새로운 데이터를 얻기 위해서입니다.\n"
   ]
  },
  {
   "cell_type": "code",
   "execution_count": 89,
   "metadata": {},
   "outputs": [
    {
     "name": "stdout",
     "output_type": "stream",
     "text": [
      "Data inserted successfully\n"
     ]
    }
   ],
   "source": [
    "remove_all_data(db)\n",
    "insert_data(db)"
   ]
  },
  {
   "cell_type": "markdown",
   "metadata": {},
   "source": [
    "## [문제 1: 특정 장르의 책 찾기]\n",
    "\n",
    "- **문제 설명**:\n",
    "  사용자는 \"fantasy\" 장르의 모든 책을 찾고 싶어합니다.\n",
    "- **쿼리 작성 목표**:\n",
    "  \"fantasy\" 장르에 해당하는 모든 책의 제목과 저자를 찾는 MongoDB 쿼리를 함수로 만들어 문제를 해결해 봅니다.\n",
    "\n",
    "**[find](https://www.mongodb.com/docs/manual/tutorial/query-documents/)**\n",
    "\n",
    "```python\n",
    "find(filter, projection, skip, limit, ...)\n",
    "```\n"
   ]
  },
  {
   "cell_type": "code",
   "execution_count": 90,
   "metadata": {},
   "outputs": [
    {
     "name": "stdout",
     "output_type": "stream",
     "text": [
      "{'title': 'Project team.', 'author': 'Christopher Nolan', 'genre': 'fantasy'}\n",
      "{'title': 'Share rate beautiful.', 'author': 'James Cameron', 'genre': 'fantasy'}\n",
      "{'title': 'Its.', 'author': 'James Cameron', 'genre': 'fantasy'}\n",
      "{'title': 'Minute suggest much long.', 'author': 'Robert Arnold', 'genre': 'fantasy'}\n",
      "{'title': 'Represent point.', 'author': 'Christopher Nolan', 'genre': 'fantasy'}\n",
      "{'title': 'Majority as.', 'author': 'James Cameron', 'genre': 'fantasy'}\n",
      "{'title': 'Network.', 'author': 'Robert Arnold', 'genre': 'fantasy'}\n",
      "{'title': 'In statement.', 'author': '봉준호', 'genre': 'fantasy'}\n",
      "{'title': 'Behind partner subject.', 'author': 'Christopher Nolan', 'genre': 'fantasy'}\n",
      "{'title': 'Hair.', 'author': 'Robert Arnold', 'genre': 'fantasy'}\n",
      "{'title': 'Plant stay.', 'author': 'James Cameron', 'genre': 'fantasy'}\n",
      "{'title': 'With morning.', 'author': 'Robert Arnold', 'genre': 'fantasy'}\n"
     ]
    }
   ],
   "source": [
    "find_books_by_genre(db, \"fantasy\")"
   ]
  },
  {
   "cell_type": "markdown",
   "metadata": {},
   "source": [
    "## [문제 2: 감독별 평균 영화 평점 계산]\n",
    "\n",
    "- **문제 설명**:\n",
    "  각 영화 감독별로 그들의 영화 평점의 평균을 계산하고 싶습니다. 이를 통해 어떤 감독이 가장 높은 평균 평점을 가지고 있는지 알아볼 수 있습니다.\n",
    "- **쿼리 작성 목표**:\n",
    "  모든 영화 감독의 영화 평점 평균을 계산하고, 평균 평점이 높은 순으로 정렬하는 MongoDB 쿼리를 함수로 만들어 문제를 해결해 봅니다.\n",
    "\n",
    "**[Aggregation Pipelines](https://www.mongodb.com/docs/manual/core/aggregation-pipeline/#std-label-aggregation-pipeline)**\n",
    "\n",
    "- aggregation pipeline은 하나 이상의 stage로 구성되어 있습니다:\n",
    "- 각 stage당 필터, 그룹, 집계 연산 중 하나를 수행합니다.\n",
    "- aggregation pipeline은 도큐먼트의 그룹을 리턴합니다. 예를 들어, 총합, 평균, 최대, 최소를 구할 수 있습니다.\n",
    "\n",
    "**[group](https://www.mongodb.com/docs/manual/reference/operator/aggregation/group/)**\n",
    "\n",
    "`$group` 스테이지는 명시한 그룹 key 별로 하나의 도큐먼트를 생성합니다. 이때 key는 필드 (혹은 필드 집합)에 해당합니다. 그룹 결과는 `_id` 필드에 적용되어야만 합니다 (required)\n"
   ]
  },
  {
   "cell_type": "code",
   "execution_count": 91,
   "metadata": {},
   "outputs": [
    {
     "name": "stdout",
     "output_type": "stream",
     "text": [
      "{'_id': 'Christopher Nolan', 'average_rating': 6.0988796159243925}\n",
      "{'_id': 'James Cameron', 'average_rating': 5.334495114472351}\n",
      "{'_id': '봉준호', 'average_rating': 5.177841512443577}\n",
      "{'_id': 'Robert Arnold', 'average_rating': 4.362250770326775}\n"
     ]
    }
   ],
   "source": [
    "group = {\"$group\": {\"_id\": \"$director\", \"average_rating\": {\"$avg\": \"$rating\"}}}\n",
    "sort = {\"$sort\": {\"average_rating\": -1}}\n",
    "\n",
    "pipeline = [group, sort]\n",
    "\n",
    "for e in db.movies.aggregate(pipeline):\n",
    "    print(e)"
   ]
  },
  {
   "cell_type": "markdown",
   "metadata": {},
   "source": [
    "## [문제 3: 특정 사용자의 최근 행동 조회]\n",
    "\n",
    "- **문제 설명**:\n",
    "  특정 사용자의 최근 행동 로그를 조회하고자 합니다. 이 때, 최신 순으로 정렬하여 최근 5개의 행동만을 보고 싶습니다.\n",
    "- **쿼리 작성 목표**:\n",
    "  사용자 ID가 1인 사용자의 최근 행동 5개를 시간 순으로 정렬하여 조회하는 MongoDB 쿼리를 함수로 만들어 문제를 해결해 봅니다.\n",
    "\n",
    "**[match](https://www.mongodb.com/docs/manual/reference/operator/aggregation/match/#mongodb-pipeline-pipe.-match)**\n",
    "\n",
    "aggregate의 탐색범위를 줄이는 데 사용됩니다. query문과 동일한 문법을 가지고 있습니다.\n",
    "\n",
    "예시코드:\n",
    "\n",
    "```javascript\n",
    "db.articles.aggregate([{ $match: { author: \"dave\" } }]);\n",
    "```\n"
   ]
  },
  {
   "cell_type": "code",
   "execution_count": 84,
   "metadata": {},
   "outputs": [
    {
     "name": "stdout",
     "output_type": "stream",
     "text": [
      "{'_id': ObjectId('66308c97770dc240bc3ff583'), 'user_id': 1, 'action': 'purchase', 'timestamp': datetime.datetime(2012, 5, 8, 19, 1, 32, 83000)}\n",
      "{'_id': ObjectId('66308c97770dc240bc3ff591'), 'user_id': 1, 'action': 'view', 'timestamp': datetime.datetime(2001, 3, 10, 12, 23, 56, 700000)}\n",
      "{'_id': ObjectId('66308c97770dc240bc3ff597'), 'user_id': 1, 'action': 'purchase', 'timestamp': datetime.datetime(2019, 1, 11, 17, 36, 26, 592000)}\n",
      "{'_id': ObjectId('66308c97770dc240bc3ff59e'), 'user_id': 1, 'action': 'purchase', 'timestamp': datetime.datetime(2022, 10, 26, 21, 6, 52, 228000)}\n",
      "{'_id': ObjectId('66308c97770dc240bc3ff5a0'), 'user_id': 1, 'action': 'click', 'timestamp': datetime.datetime(2006, 10, 3, 1, 37, 32, 602000)}\n"
     ]
    }
   ],
   "source": [
    "find_recent_actions_by_user(db, 1, 5)"
   ]
  },
  {
   "cell_type": "markdown",
   "metadata": {},
   "source": [
    "## [문제 4: 출판 연도별 책의 수 계산]\n",
    "\n",
    "- **문제 설명** :\n",
    "  데이터베이스에 저장된 책 데이터를 이용하여 각 출판 연도별로 출판된 책의 수를 계산하고자 합니다. 이 데이터는 시간에 따른 출판 트렌드를 분석하는 데 사용될 수 있습니다.\n",
    "- **쿼리 작성 목표** :\n",
    "  각 출판 연도별로 출판된 책의 수를 계산하고, 출판된 책의 수가 많은 순서대로 정렬하는 MongoDB 쿼리를 함수로 만들어 문제를 해결해 봅니다.\n"
   ]
  },
  {
   "cell_type": "code",
   "execution_count": 92,
   "metadata": {},
   "outputs": [
    {
     "name": "stdout",
     "output_type": "stream",
     "text": [
      "{'_id': 1900, 'published_count': 2}\n",
      "{'_id': 1901, 'published_count': 1}\n",
      "{'_id': 1903, 'published_count': 2}\n",
      "{'_id': 1905, 'published_count': 1}\n",
      "{'_id': 1907, 'published_count': 1}\n",
      "{'_id': 1908, 'published_count': 2}\n",
      "{'_id': 1910, 'published_count': 1}\n",
      "{'_id': 1911, 'published_count': 1}\n",
      "{'_id': 1920, 'published_count': 1}\n",
      "{'_id': 1923, 'published_count': 2}\n",
      "{'_id': 1926, 'published_count': 1}\n",
      "{'_id': 1932, 'published_count': 1}\n",
      "{'_id': 1934, 'published_count': 1}\n",
      "{'_id': 1936, 'published_count': 1}\n",
      "{'_id': 1937, 'published_count': 1}\n",
      "{'_id': 1939, 'published_count': 1}\n",
      "{'_id': 1941, 'published_count': 2}\n",
      "{'_id': 1944, 'published_count': 1}\n",
      "{'_id': 1946, 'published_count': 1}\n",
      "{'_id': 1948, 'published_count': 1}\n",
      "{'_id': 1950, 'published_count': 1}\n",
      "{'_id': 1951, 'published_count': 1}\n",
      "{'_id': 1953, 'published_count': 1}\n",
      "{'_id': 1954, 'published_count': 2}\n",
      "{'_id': 1955, 'published_count': 1}\n",
      "{'_id': 1958, 'published_count': 1}\n",
      "{'_id': 1966, 'published_count': 2}\n",
      "{'_id': 1976, 'published_count': 1}\n",
      "{'_id': 1978, 'published_count': 1}\n",
      "{'_id': 1987, 'published_count': 1}\n",
      "{'_id': 1991, 'published_count': 1}\n",
      "{'_id': 1992, 'published_count': 1}\n",
      "{'_id': 1995, 'published_count': 1}\n",
      "{'_id': 2007, 'published_count': 1}\n",
      "{'_id': 2011, 'published_count': 1}\n",
      "{'_id': 2012, 'published_count': 1}\n",
      "{'_id': 2013, 'published_count': 1}\n",
      "{'_id': 2014, 'published_count': 1}\n",
      "{'_id': 2015, 'published_count': 1}\n",
      "{'_id': 2021, 'published_count': 1}\n",
      "{'_id': 2023, 'published_count': 2}\n",
      "{'_id': 2024, 'published_count': 1}\n"
     ]
    }
   ],
   "source": [
    "group = {\"$group\": {\"_id\": \"$year\", \"published_count\": {\"$count\": {}}}}\n",
    "sort = {\"$sort\": {\"_id\": 1}}\n",
    "\n",
    "for e in db[\"books\"].aggregate([group, sort]):\n",
    "    print(e)"
   ]
  },
  {
   "cell_type": "markdown",
   "metadata": {},
   "source": [
    "## [문제 5: 특정 사용자의 행동 유형 업데이트]\n",
    "\n",
    "- **문제 설명**:\n",
    "  특정 사용자의 행동 로그 중, 특정 날짜 이전의 \"view\" 행동을 \"seen\"으로 변경하고 싶습니다. 예를 들어, 사용자 ID가 1인 사용자의 2023년 4월 10일 이전의 모든 \"view\" 행동을 \"seen\"으로 변경하는 작업입니다.\n",
    "- **쿼리 작성 목표**:\n",
    "  사용자 ID가 1인 사용자의 2023년 4월 10일 이전의 \"view\" 행동을 \"seen\"으로 변경하는 MongoDB 업데이트 쿼리를 함수로 만들어 문제를 해결해 봅니다.\n"
   ]
  },
  {
   "cell_type": "code",
   "execution_count": 94,
   "metadata": {},
   "outputs": [
    {
     "name": "stdout",
     "output_type": "stream",
     "text": [
      "{'action': 'seen', 'timestamp': datetime.datetime(2003, 1, 19, 12, 26, 14, 947000)}\n"
     ]
    }
   ],
   "source": [
    "user_id = 2\n",
    "base_time = datetime(2008, 4, 10)\n",
    "\n",
    "update_user_actions_before_date(db, user_id, base_time, \"view\", \"seen\")\n",
    "\n",
    "_match = {\"$match\": {\"user_id\": user_id, \"timestamp\": {\"$lt\": base_time}}}\n",
    "_projection = {\"$project\": {\"_id\": 0, \"action\": 1, \"timestamp\": 1}}\n",
    "_sort = {\"$sort\": {\"timestamp\": 1}}\n",
    "\n",
    "_aggregate = [\n",
    "    _match,\n",
    "    _projection,\n",
    "    _sort,\n",
    "]\n",
    "\n",
    "for e in db[\"user_actions\"].aggregate(_aggregate):\n",
    "    ### REVIEW - projection 단계에서 timestamp를 미리 문자열로 바꿀 수는 없을까?\n",
    "    # print(e)\n",
    "    print({\"action\": e[\"action\"], \"timestamp\": e[\"timestamp\"].strftime(\"%y-%m-%d\")})"
   ]
  },
  {
   "cell_type": "markdown",
   "metadata": {},
   "source": [
    "## 더 해볼 것들\n",
    "\n",
    "- [Query on Embedded / Nested Documents](https://www.mongodb.com/docs/manual/tutorial/query-embedded-documents/)\n",
    "- [Query for Null or Missing Fields](https://www.mongodb.com/docs/manual/tutorial/query-for-null-fields/) find에 다양한 조건들을 사용해보자\n",
    "  - `\"$ne\"`\n",
    "  - `\"$type\"`\n",
    "  - `\"$exists\"`\n"
   ]
  }
 ],
 "metadata": {
  "kernelspec": {
   "display_name": ".venv",
   "language": "python",
   "name": "python3"
  },
  "language_info": {
   "codemirror_mode": {
    "name": "ipython",
    "version": 3
   },
   "file_extension": ".py",
   "mimetype": "text/x-python",
   "name": "python",
   "nbconvert_exporter": "python",
   "pygments_lexer": "ipython3",
   "version": "3.12.2"
  }
 },
 "nbformat": 4,
 "nbformat_minor": 2
}
