{
 "cells": [
  {
   "cell_type": "markdown",
   "metadata": {},
   "source": [
    "## MongoDB 문제 풀어보기\n",
    "\n",
    "[notion link](https://www.notion.so/MongoDB-845d3b14f8c84ace9044f4fd783ace7c?pvs=4)\n",
    "\n",
    "- **복습할 개념 체크 리스트**\n",
    "  - Python 함수\n",
    "  - `find`\n",
    "  - `sort`\n",
    "  - `update_many`\n",
    "  - `limit`\n",
    "  - `aggregate`\n"
   ]
  },
  {
   "cell_type": "markdown",
   "metadata": {},
   "source": [
    "## import\n"
   ]
  },
  {
   "cell_type": "code",
   "execution_count": 13,
   "metadata": {},
   "outputs": [],
   "source": [
    "from pymongo import MongoClient\n",
    "from faker import Faker\n",
    "import random"
   ]
  },
  {
   "cell_type": "markdown",
   "metadata": {},
   "source": [
    "## 함수 정의부\n"
   ]
  },
  {
   "cell_type": "code",
   "execution_count": 41,
   "metadata": {},
   "outputs": [],
   "source": [
    "def generate_sample_book():\n",
    "    return {\n",
    "        \"title\": fake.sentence(nb_words=3),\n",
    "        \"author\": fake.word(\n",
    "            ext_word_list=[\"봉준호\", \"James Cameron\", \"Christopher Nolan\", \"Robert Arnold\"]\n",
    "        ),\n",
    "        \"year\": random.randint(1900, 2024),\n",
    "        \"genre\": fake.word(ext_word_list=[\"comic\", \"fantasy\", \"thriller\", \"horror\"]),\n",
    "    }\n",
    "\n",
    "\n",
    "def generate_sample_movie():\n",
    "    return {\n",
    "        \"title\": fake.sentence(nb_words=3),\n",
    "        \"director\": fake.word(\n",
    "            ext_word_list=[\"봉준호\", \"James Cameron\", \"Christopher Nolan\", \"Robert Arnold\"]\n",
    "        ),\n",
    "        \"year\": random.randint(1900, 2024),\n",
    "        \"rating\": random.uniform(1, 10),\n",
    "        \"genre\": fake.word(ext_word_list=[\"comic\", \"fantasy\", \"thriller\", \"horror\"]),\n",
    "    }\n",
    "\n",
    "\n",
    "def generate_user_action():\n",
    "    return {\n",
    "        \"user_id\": random.randint(1, 10),\n",
    "        \"action\": random.choice(ACTIONS),\n",
    "        \"timestamp\": fake.date_time_between(),\n",
    "    }\n",
    "\n",
    "\n",
    "def insert_data(db):\n",
    "    # 책 데이터 삽입\n",
    "    db[\"books\"].insert_many([generate_sample_book() for _ in range(50)])\n",
    "\n",
    "    # 영화 데이터 삽입\n",
    "    db[\"movies\"].insert_many([generate_sample_movie() for _ in range(50)])\n",
    "\n",
    "    # 사용자 행동 데이터 삽입\n",
    "    db[\"user_actions\"].insert_many([generate_user_action() for _ in range(50)])\n",
    "\n",
    "    print(\"Data inserted successfully\")\n",
    "\n",
    "\n",
    "def find_books_by_genre(db, genre):\n",
    "    books_collection = db.books\n",
    "    query = {\"genre\": genre}\n",
    "    projection = {\n",
    "        \"_id\": 0,\n",
    "        \"title\": 1,\n",
    "        \"author\": 1,\n",
    "        \"genre\": 1,\n",
    "    }  # 1 은 포함할 필드, 0 은 제외할 필드\n",
    "\n",
    "    books = books_collection.find(query, projection)\n",
    "    for book in books:\n",
    "        print(book)\n",
    "\n",
    "\n",
    "def find_recent_actions_by_user(db, user_id, limit=5):\n",
    "    \"\"\"\n",
    "    사용자의 최근 행동 5개를 시간 순으로 정렬하여 보여주세요\n",
    "    \"\"\"\n",
    "    _match = {\"$match\": {\"user_id\": user_id}}\n",
    "    _limit = {\"$limit\": limit}\n",
    "    pipeline = [_match, _limit]\n",
    "    result = db[\"user_actions\"].aggregate(pipeline)\n",
    "\n",
    "    for action in result:\n",
    "        print(action)\n",
    "\n",
    "\n",
    "def count_books_by_year(db):\n",
    "    pass\n",
    "\n",
    "\n",
    "def update_user_actions_before_date(db, user_id, date, old_action, new_action):\n",
    "    pass"
   ]
  },
  {
   "cell_type": "markdown",
   "metadata": {},
   "source": [
    "## db 객체 초기화 및 실습 진행\n"
   ]
  },
  {
   "cell_type": "code",
   "execution_count": 37,
   "metadata": {},
   "outputs": [],
   "source": [
    "ACTIONS = [\"click\", \"view\", \"purchase\"]\n",
    "fake = Faker()\n",
    "\n",
    "client = MongoClient(\"mongodb://localhost:27017/\")\n",
    "db = client.test_database"
   ]
  },
  {
   "cell_type": "markdown",
   "metadata": {},
   "source": [
    "## 데이터 삽입코드\n"
   ]
  },
  {
   "cell_type": "code",
   "execution_count": 34,
   "metadata": {},
   "outputs": [
    {
     "name": "stdout",
     "output_type": "stream",
     "text": [
      "Data inserted successfully\n"
     ]
    }
   ],
   "source": [
    "insert_data(db)"
   ]
  },
  {
   "cell_type": "markdown",
   "metadata": {},
   "source": [
    "## [문제 1: 특정 장르의 책 찾기]\n",
    "\n",
    "- **문제 설명**:\n",
    "  사용자는 \"fantasy\" 장르의 모든 책을 찾고 싶어합니다.\n",
    "- **쿼리 작성 목표**:\n",
    "  \"fantasy\" 장르에 해당하는 모든 책의 제목과 저자를 찾는 MongoDB 쿼리를 함수로 만들어 문제를 해결해 봅니다.\n"
   ]
  },
  {
   "cell_type": "code",
   "execution_count": 38,
   "metadata": {},
   "outputs": [
    {
     "name": "stdout",
     "output_type": "stream",
     "text": [
      "{'title': 'Kafka on the Shore', 'author': 'Haruki Murakami', 'genre': 'fantasy'}\n",
      "{'title': '1Q84', 'author': 'Haruki Murakami', 'genre': 'fantasy'}\n",
      "{'title': 'Affect fly.', 'author': 'Robert Arnold', 'genre': 'fantasy'}\n",
      "{'title': 'Line raise gun where.', 'author': 'Robert Arnold', 'genre': 'fantasy'}\n",
      "{'title': 'Fight join push.', 'author': 'Christopher Nolan', 'genre': 'fantasy'}\n",
      "{'title': 'Put group information.', 'author': 'James Cameron', 'genre': 'fantasy'}\n",
      "{'title': 'Leg remember than middle.', 'author': 'James Cameron', 'genre': 'fantasy'}\n",
      "{'title': 'Weight seem money.', 'author': 'James Cameron', 'genre': 'fantasy'}\n",
      "{'title': 'Eat you.', 'author': 'James Cameron', 'genre': 'fantasy'}\n",
      "{'title': 'National.', 'author': '봉준호', 'genre': 'fantasy'}\n",
      "{'title': 'Rise discussion.', 'author': 'Christopher Nolan', 'genre': 'fantasy'}\n",
      "{'title': 'Always source from.', 'author': '봉준호', 'genre': 'fantasy'}\n",
      "{'title': 'Official central doctor.', 'author': 'Robert Arnold', 'genre': 'fantasy'}\n",
      "{'title': 'Training attention.', 'author': 'James Cameron', 'genre': 'fantasy'}\n",
      "{'title': 'Ability poor.', 'author': '봉준호', 'genre': 'fantasy'}\n",
      "{'title': 'Foot reason player.', 'author': 'Robert Arnold', 'genre': 'fantasy'}\n",
      "{'title': 'Organization boy teach.', 'author': 'Christopher Nolan', 'genre': 'fantasy'}\n",
      "{'title': 'Concern those.', 'author': '봉준호', 'genre': 'fantasy'}\n",
      "{'title': 'Professor model director.', 'author': 'Robert Arnold', 'genre': 'fantasy'}\n",
      "{'title': 'Center try task.', 'author': '봉준호', 'genre': 'fantasy'}\n",
      "{'title': 'Nation into might.', 'author': 'Christopher Nolan', 'genre': 'fantasy'}\n",
      "{'title': 'Perhaps approach space.', 'author': 'James Cameron', 'genre': 'fantasy'}\n",
      "{'title': 'Friend.', 'author': 'James Cameron', 'genre': 'fantasy'}\n",
      "{'title': 'Beyond always.', 'author': 'James Cameron', 'genre': 'fantasy'}\n",
      "{'title': 'Understand rock real.', 'author': 'Robert Arnold', 'genre': 'fantasy'}\n",
      "{'title': 'Interview base book.', 'author': '봉준호', 'genre': 'fantasy'}\n",
      "{'title': 'Establish order wide.', 'author': '봉준호', 'genre': 'fantasy'}\n",
      "{'title': 'Week pretty.', 'author': 'James Cameron', 'genre': 'fantasy'}\n",
      "{'title': 'Back.', 'author': 'Robert Arnold', 'genre': 'fantasy'}\n",
      "{'title': 'College.', 'author': 'Christopher Nolan', 'genre': 'fantasy'}\n",
      "{'title': 'Wall remember shoulder.', 'author': 'Robert Arnold', 'genre': 'fantasy'}\n",
      "{'title': 'Second professor.', 'author': 'Christopher Nolan', 'genre': 'fantasy'}\n",
      "{'title': 'Air able few.', 'author': 'James Cameron', 'genre': 'fantasy'}\n",
      "{'title': 'Various serious.', 'author': 'James Cameron', 'genre': 'fantasy'}\n",
      "{'title': 'Anything whole.', 'author': '봉준호', 'genre': 'fantasy'}\n",
      "{'title': 'More benefit.', 'author': 'Christopher Nolan', 'genre': 'fantasy'}\n",
      "{'title': 'Support what.', 'author': 'Christopher Nolan', 'genre': 'fantasy'}\n",
      "{'title': 'Ten democratic.', 'author': 'James Cameron', 'genre': 'fantasy'}\n",
      "{'title': 'Sort benefit drop.', 'author': 'James Cameron', 'genre': 'fantasy'}\n",
      "{'title': 'Music.', 'author': 'Christopher Nolan', 'genre': 'fantasy'}\n",
      "{'title': 'Nature wonder certainly.', 'author': '봉준호', 'genre': 'fantasy'}\n",
      "{'title': 'Business.', 'author': 'Christopher Nolan', 'genre': 'fantasy'}\n",
      "{'title': 'Low this.', 'author': 'Robert Arnold', 'genre': 'fantasy'}\n",
      "{'title': 'Three blood part.', 'author': '봉준호', 'genre': 'fantasy'}\n",
      "{'title': 'Two return century.', 'author': 'James Cameron', 'genre': 'fantasy'}\n",
      "{'title': 'Go.', 'author': '봉준호', 'genre': 'fantasy'}\n",
      "{'title': 'Attention idea.', 'author': 'James Cameron', 'genre': 'fantasy'}\n",
      "{'title': 'Buy different.', 'author': '봉준호', 'genre': 'fantasy'}\n",
      "{'title': 'Ground road.', 'author': 'Christopher Nolan', 'genre': 'fantasy'}\n",
      "{'title': 'Player area.', 'author': 'James Cameron', 'genre': 'fantasy'}\n",
      "{'title': 'Different fight.', 'author': 'Robert Arnold', 'genre': 'fantasy'}\n",
      "{'title': 'Space not.', 'author': '봉준호', 'genre': 'fantasy'}\n",
      "{'title': 'Middle cut contain exactly.', 'author': '봉준호', 'genre': 'fantasy'}\n",
      "{'title': 'Several check.', 'author': '봉준호', 'genre': 'fantasy'}\n",
      "{'title': 'When citizen trip reason.', 'author': 'Christopher Nolan', 'genre': 'fantasy'}\n",
      "{'title': 'Dinner travel teacher.', 'author': 'Robert Arnold', 'genre': 'fantasy'}\n",
      "{'title': 'Party finish.', 'author': 'James Cameron', 'genre': 'fantasy'}\n",
      "{'title': 'Price article.', 'author': 'Robert Arnold', 'genre': 'fantasy'}\n",
      "{'title': 'Every education stage there.', 'author': 'Robert Arnold', 'genre': 'fantasy'}\n",
      "{'title': 'Research civil ten.', 'author': '봉준호', 'genre': 'fantasy'}\n"
     ]
    }
   ],
   "source": [
    "find_books_by_genre(db, \"fantasy\")"
   ]
  },
  {
   "cell_type": "markdown",
   "metadata": {},
   "source": [
    "## [문제 2: 감독별 평균 영화 평점 계산]\n",
    "\n",
    "- **문제 설명**:\n",
    "  각 영화 감독별로 그들의 영화 평점의 평균을 계산하고 싶습니다. 이를 통해 어떤 감독이 가장 높은 평균 평점을 가지고 있는지 알아볼 수 있습니다.\n",
    "- **쿼리 작성 목표**:\n",
    "  모든 영화 감독의 영화 평점 평균을 계산하고, 평균 평점이 높은 순으로 정렬하는 MongoDB 쿼리를 함수로 만들어 문제를 해결해 봅니다.\n",
    "\n",
    "**[Aggregation Pipelines](https://www.mongodb.com/docs/manual/core/aggregation-pipeline/#std-label-aggregation-pipeline)**\n",
    "\n",
    "- aggregation pipeline은 하나 이상의 stage로 구성되어 있습니다:\n",
    "- 각 stage당 필터, 그룹, 집계 연산 중 하나를 수행합니다.\n",
    "- aggregation pipeline은 도큐먼트의 그룹을 리턴합니다. 예를 들어, 총합, 평균, 최대, 최소를 구할 수 있습니다.\n"
   ]
  },
  {
   "cell_type": "code",
   "execution_count": 39,
   "metadata": {},
   "outputs": [
    {
     "name": "stdout",
     "output_type": "stream",
     "text": [
      "{'_id': 'Nicole Contreras', 'average_rating': 9.985575640949612}\n",
      "{'_id': 'Ryan Garcia', 'average_rating': 9.952724359278863}\n",
      "{'_id': 'Emily Lamb', 'average_rating': 9.938398814202332}\n",
      "{'_id': 'James Phillips', 'average_rating': 9.879404744672382}\n",
      "{'_id': 'Mrs. Sydney Collins', 'average_rating': 9.710170734941597}\n",
      "{'_id': 'Carla Richards', 'average_rating': 9.705999993713801}\n",
      "{'_id': 'Chelsea Pearson', 'average_rating': 9.650697466320608}\n",
      "{'_id': 'Miss Amy Bartlett', 'average_rating': 9.43596882765703}\n",
      "{'_id': 'Frances Davidson', 'average_rating': 9.387763550926685}\n",
      "{'_id': 'Michael Stewart', 'average_rating': 9.319807271237838}\n",
      "{'_id': 'Kathleen Moore', 'average_rating': 9.297501494033025}\n",
      "{'_id': 'Steven Garrison', 'average_rating': 9.204465366232206}\n",
      "{'_id': 'Briana Lee', 'average_rating': 9.177891096704212}\n",
      "{'_id': 'Joseph Long', 'average_rating': 9.070833768046004}\n",
      "{'_id': 'Richard Parks', 'average_rating': 8.977464471631112}\n",
      "{'_id': 'Deborah Cunningham', 'average_rating': 8.971759708363859}\n",
      "{'_id': 'Rodney Lee', 'average_rating': 8.697225810474254}\n",
      "{'_id': 'Melissa Williams', 'average_rating': 8.31896787629073}\n",
      "{'_id': 'Patricia Becker', 'average_rating': 7.910664827024503}\n",
      "{'_id': 'Rachel Ibarra', 'average_rating': 7.892946146390089}\n",
      "{'_id': 'Angela Washington', 'average_rating': 7.808578424449317}\n",
      "{'_id': 'Kevin Miller', 'average_rating': 7.752892616417897}\n",
      "{'_id': 'Jeff Thomas', 'average_rating': 7.725858071446206}\n",
      "{'_id': 'Michael Mann', 'average_rating': 7.648745525915831}\n",
      "{'_id': 'Elizabeth Harris', 'average_rating': 7.61398409344856}\n",
      "{'_id': 'Meredith Moore', 'average_rating': 7.576845731799117}\n",
      "{'_id': 'Amber Jackson', 'average_rating': 7.466282479568739}\n",
      "{'_id': 'Colleen Vasquez', 'average_rating': 7.465663767038079}\n",
      "{'_id': 'Laura Hernandez', 'average_rating': 7.325490209705176}\n",
      "{'_id': 'Christopher Nolan', 'average_rating': 7.224267896275009}\n",
      "{'_id': 'Kevin Smith', 'average_rating': 7.224119877934106}\n",
      "{'_id': 'Amber Hudson', 'average_rating': 6.869421528745347}\n",
      "{'_id': 'Justin Cunningham', 'average_rating': 6.426619661580144}\n",
      "{'_id': 'Sharon Knight', 'average_rating': 6.400300936190204}\n",
      "{'_id': 'Stephanie Buck', 'average_rating': 6.371960293252076}\n",
      "{'_id': 'Katelyn Ortiz', 'average_rating': 6.341752128414973}\n",
      "{'_id': 'Elaine Coleman', 'average_rating': 6.336279018078225}\n",
      "{'_id': 'Robert Arnold', 'average_rating': 6.251129468582689}\n",
      "{'_id': 'Phillip Hammond', 'average_rating': 6.246720613505287}\n",
      "{'_id': 'Daniel Harris', 'average_rating': 6.086771573704933}\n",
      "{'_id': 'Alisha Waller', 'average_rating': 6.076274224124409}\n",
      "{'_id': 'James Cameron', 'average_rating': 6.031701502083728}\n",
      "{'_id': 'Eric Williamson', 'average_rating': 5.859964806854362}\n",
      "{'_id': 'Michael Potts', 'average_rating': 5.713839661003742}\n",
      "{'_id': '봉준호', 'average_rating': 5.652692441945054}\n",
      "{'_id': 'Trevor Lewis', 'average_rating': 5.5492480937276785}\n",
      "{'_id': 'Sierra Lynch', 'average_rating': 5.529636478665483}\n",
      "{'_id': 'Hunter Simmons', 'average_rating': 5.4792763459006615}\n",
      "{'_id': 'Jacqueline Guerrero', 'average_rating': 4.990608413396352}\n",
      "{'_id': 'Jason Montes', 'average_rating': 4.915068736362325}\n",
      "{'_id': 'Lauren Dawson', 'average_rating': 4.736386267524752}\n",
      "{'_id': 'Joshua Valentine', 'average_rating': 4.688127424154651}\n",
      "{'_id': 'Alexandra Allen', 'average_rating': 4.684718848053357}\n",
      "{'_id': 'Loretta Butler', 'average_rating': 4.609819876756054}\n",
      "{'_id': 'Rhonda Jones', 'average_rating': 4.574040590098042}\n",
      "{'_id': 'Charles Christian', 'average_rating': 4.445350400978338}\n",
      "{'_id': 'Erin Parsons', 'average_rating': 4.416374822530843}\n",
      "{'_id': 'Vicki Brown', 'average_rating': 4.346471958992951}\n",
      "{'_id': 'Hannah Brandt', 'average_rating': 4.342163027657317}\n",
      "{'_id': 'Hannah Hardy', 'average_rating': 4.066075855960193}\n",
      "{'_id': 'Craig Sweeney', 'average_rating': 3.9102375891185015}\n",
      "{'_id': 'Carrie Lowe', 'average_rating': 3.8470766161792143}\n",
      "{'_id': 'Kathy Ferguson', 'average_rating': 3.8040470374534845}\n",
      "{'_id': 'Ashley Walker', 'average_rating': 3.658940489278236}\n",
      "{'_id': 'Gerald Monroe', 'average_rating': 3.651250948175306}\n",
      "{'_id': 'Charles Davis', 'average_rating': 3.5549961126219154}\n",
      "{'_id': 'Gabriella Reilly', 'average_rating': 3.134035582197436}\n",
      "{'_id': 'Joshua Mitchell', 'average_rating': 3.095214903738598}\n",
      "{'_id': 'Margaret Baker', 'average_rating': 3.0165979089558856}\n",
      "{'_id': 'William Jones', 'average_rating': 2.909418933438425}\n",
      "{'_id': 'Robert Mason', 'average_rating': 2.838097425111531}\n",
      "{'_id': 'Ivan Baker', 'average_rating': 2.8276833763792224}\n",
      "{'_id': 'Christopher Brown', 'average_rating': 2.806028062732438}\n",
      "{'_id': 'Patrick Gonzales', 'average_rating': 2.678353001291847}\n",
      "{'_id': 'Matthew Taylor', 'average_rating': 2.543075062000356}\n",
      "{'_id': 'Aaron Smith Jr.', 'average_rating': 2.534814340855271}\n",
      "{'_id': 'Abigail Ruiz', 'average_rating': 2.491074873329788}\n",
      "{'_id': 'Kyle Pierce', 'average_rating': 2.459647519039685}\n",
      "{'_id': 'Alan Nixon', 'average_rating': 2.4235396741862574}\n",
      "{'_id': 'Frederick Ortiz', 'average_rating': 2.3979165625801455}\n",
      "{'_id': 'Brian Hickman', 'average_rating': 2.348352094774744}\n",
      "{'_id': 'Catherine Simpson', 'average_rating': 2.3149989196047747}\n",
      "{'_id': 'Tim Blake', 'average_rating': 2.2097548333713677}\n",
      "{'_id': 'Jacob Galvan', 'average_rating': 2.073907322159005}\n",
      "{'_id': 'Brittany Myers', 'average_rating': 2.0256085920415297}\n",
      "{'_id': 'Paul Gibson', 'average_rating': 1.9223899262358497}\n",
      "{'_id': 'Lacey Fisher', 'average_rating': 1.8492584060224142}\n",
      "{'_id': 'Robin Mckenzie', 'average_rating': 1.6140371303587133}\n",
      "{'_id': 'Krystal Riddle', 'average_rating': 1.5393857093995116}\n",
      "{'_id': 'Tammy Combs', 'average_rating': 1.486867108539636}\n",
      "{'_id': 'Victoria Collins', 'average_rating': 1.4636878421608617}\n",
      "{'_id': 'Erin Hall', 'average_rating': 1.3296769903960963}\n",
      "{'_id': 'Michelle Sawyer', 'average_rating': 1.2152895157669867}\n",
      "{'_id': 'Melissa Johnson', 'average_rating': 1.1376430917687204}\n",
      "{'_id': 'Richard Edwards', 'average_rating': 1.1121603321687878}\n",
      "{'_id': 'Brooke Reid', 'average_rating': 1.1116835191649908}\n",
      "{'_id': 'Shari Carey', 'average_rating': 1.0851248210144497}\n"
     ]
    }
   ],
   "source": [
    "group = {\"$group\": {\"_id\": \"$director\", \"average_rating\": {\"$avg\": \"$rating\"}}}\n",
    "sort = {\"$sort\": {\"average_rating\": -1}}\n",
    "\n",
    "pipeline = [group, sort]\n",
    "\n",
    "for e in db.movies.aggregate(pipeline):\n",
    "    print(e)"
   ]
  },
  {
   "cell_type": "markdown",
   "metadata": {},
   "source": [
    "## [문제 3: 특정 사용자의 최근 행동 조회]\n",
    "\n",
    "- **문제 설명**:\n",
    "  특정 사용자의 최근 행동 로그를 조회하고자 합니다. 이 때, 최신 순으로 정렬하여 최근 5개의 행동만을 보고 싶습니다.\n",
    "- **쿼리 작성 목표**:\n",
    "  사용자 ID가 1인 사용자의 최근 행동 5개를 시간 순으로 정렬하여 조회하는 MongoDB 쿼리를 함수로 만들어 문제를 해결해 봅니다.\n",
    "\n",
    "**[match](https://www.mongodb.com/docs/manual/reference/operator/aggregation/match/#mongodb-pipeline-pipe.-match)**\n",
    "\n",
    "aggregate의 탐색범위를 줄이는 데 사용됩니다.\n",
    "\n",
    "예시코드:\n",
    "\n",
    "```javascript\n",
    "db.articles.aggregate([{ $match: { author: \"dave\" } }]);\n",
    "```\n"
   ]
  },
  {
   "cell_type": "code",
   "execution_count": 42,
   "metadata": {},
   "outputs": [
    {
     "name": "stdout",
     "output_type": "stream",
     "text": [
      "{'_id': ObjectId('662a1eb0ee11c3251e5e953e'), 'user_id': 1, 'action': 'click', 'timestamp': '2023-04-12T08:00:00Z'}\n",
      "{'_id': ObjectId('662a1eb0ee11c3251e5e953f'), 'user_id': 1, 'action': 'view', 'timestamp': '2023-04-12T09:00:00Z'}\n",
      "{'_id': ObjectId('662a20dddecdb0e59fd25188'), 'user_id': 1, 'action': 'click', 'timestamp': '2023-04-12T08:00:00Z'}\n",
      "{'_id': ObjectId('662a20dddecdb0e59fd25189'), 'user_id': 1, 'action': 'view', 'timestamp': '2023-04-12T09:00:00Z'}\n",
      "{'_id': ObjectId('66305bea38803bc54e429b64'), 'user_id': 1, 'action': 'purchase', 'timestamp': datetime.datetime(2023, 8, 7, 14, 31, 15, 466000)}\n"
     ]
    }
   ],
   "source": [
    "find_recent_actions_by_user(db, 1, 5)"
   ]
  },
  {
   "cell_type": "markdown",
   "metadata": {},
   "source": [
    "## [문제 4: 출판 연도별 책의 수 계산]\n",
    "\n",
    "- **문제 설명** :\n",
    "  데이터베이스에 저장된 책 데이터를 이용하여 각 출판 연도별로 출판된 책의 수를 계산하고자 합니다. 이 데이터는 시간에 따른 출판 트렌드를 분석하는 데 사용될 수 있습니다.\n",
    "- **쿼리 작성 목표** :\n",
    "  각 출판 연도별로 출판된 책의 수를 계산하고, 출판된 책의 수가 많은 순서대로 정렬하는 MongoDB 쿼리를 함수로 만들어 문제를 해결해 봅니다.\n"
   ]
  },
  {
   "cell_type": "markdown",
   "metadata": {},
   "source": [
    "## [문제 5: 특정 사용자의 행동 유형 업데이트]\n",
    "\n",
    "- **문제 설명**:\n",
    "  특정 사용자의 행동 로그 중, 특정 날짜 이전의 \"view\" 행동을 \"seen\"으로 변경하고 싶습니다. 예를 들어, 사용자 ID가 1인 사용자의 2023년 4월 10일 이전의 모든 \"view\" 행동을 \"seen\"으로 변경하는 작업입니다.\n",
    "- **쿼리 작성 목표**:\n",
    "  사용자 ID가 1인 사용자의 2023년 4월 10일 이전의 \"view\" 행동을 \"seen\"으로 변경하는 MongoDB 업데이트 쿼리를 함수로 만들어 문제를 해결해 봅니다.\n"
   ]
  },
  {
   "cell_type": "code",
   "execution_count": 9,
   "metadata": {},
   "outputs": [
    {
     "name": "stdout",
     "output_type": "stream",
     "text": [
      "Data inserted successfully\n"
     ]
    }
   ],
   "source": []
  },
  {
   "cell_type": "code",
   "execution_count": null,
   "metadata": {},
   "outputs": [],
   "source": [
    "find_books_by_genre(db, \"fantasy\")"
   ]
  },
  {
   "cell_type": "code",
   "execution_count": null,
   "metadata": {},
   "outputs": [],
   "source": []
  }
 ],
 "metadata": {
  "kernelspec": {
   "display_name": ".venv",
   "language": "python",
   "name": "python3"
  },
  "language_info": {
   "codemirror_mode": {
    "name": "ipython",
    "version": 3
   },
   "file_extension": ".py",
   "mimetype": "text/x-python",
   "name": "python",
   "nbconvert_exporter": "python",
   "pygments_lexer": "ipython3",
   "version": "3.12.2"
  }
 },
 "nbformat": 4,
 "nbformat_minor": 2
}
